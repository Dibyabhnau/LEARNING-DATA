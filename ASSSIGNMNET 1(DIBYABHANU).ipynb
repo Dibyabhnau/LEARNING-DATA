{
 "cells": [
  {
   "cell_type": "markdown",
   "id": "5155e429-6722-42a7-86cf-fe3b759aa6d5",
   "metadata": {},
   "source": [
    "Answer 1\n"
   ]
  },
  {
   "cell_type": "markdown",
   "id": "01f5124c-dbff-4fd0-b127-bf2a8e74b1d8",
   "metadata": {},
   "source": [
    "x='Dibyabhanu'\n",
    "x=[1,v,g,dibbya,true,]\n",
    "x=28.87\n",
    "x=('dibyabhanu','mohanta',45)"
   ]
  },
  {
   "cell_type": "markdown",
   "id": "be9eeda7-b1be-4191-8b33-ab22d291b5af",
   "metadata": {},
   "source": [
    "answer 2 "
   ]
  },
  {
   "cell_type": "markdown",
   "id": "286de579-7131-4cbb-88e4-1176e17318f8",
   "metadata": {},
   "source": [
    "var1 is a string\n",
    "var2 is a string\n",
    "var3 is a list\n",
    "var4 is a int"
   ]
  },
  {
   "cell_type": "markdown",
   "id": "c33715f0-bfaf-4bb7-9459-778fb3908bd9",
   "metadata": {},
   "source": [
    "answwer 3 "
   ]
  },
  {
   "cell_type": "markdown",
   "id": "171268ca-e104-41fd-b069-bce57a99c6f4",
   "metadata": {},
   "source": [
    "/ is an arithmetic operator  used to  perform division\n",
    "% is an  arithmetic operator used to  perfom modulus \n",
    "// is used to do floor division\n",
    "** is used  for power"
   ]
  },
  {
   "cell_type": "markdown",
   "id": "fb1879e3-4478-4b72-86d4-aecc1a6d6585",
   "metadata": {},
   "source": [
    "answwer 4"
   ]
  },
  {
   "cell_type": "code",
   "execution_count": 7,
   "id": "16615eff-c48d-48d6-b07a-a46c4b36a386",
   "metadata": {
    "tags": []
   },
   "outputs": [
    {
     "name": "stdout",
     "output_type": "stream",
     "text": [
      "1\n",
      "dibya\n",
      "True\n",
      "4.5\n",
      "5\n",
      "6\n",
      "7\n",
      "8\n",
      "9\n",
      "10\n"
     ]
    }
   ],
   "source": [
    "s=[1,'dibya',True,4.5,5,6,7,8,9,10]\n",
    "for i in s:\n",
    "    print(i)"
   ]
  },
  {
   "cell_type": "markdown",
   "id": "5c735589-7490-4ee1-9b43-146aae9d2934",
   "metadata": {},
   "source": [
    "answer 5"
   ]
  },
  {
   "cell_type": "code",
   "execution_count": 22,
   "id": "17d26004-a225-4ed5-9ea7-993cf8bb83f1",
   "metadata": {
    "tags": []
   },
   "outputs": [
    {
     "name": "stdin",
     "output_type": "stream",
     "text": [
      "Enter number A:  9\n",
      "Enter number B:  3\n"
     ]
    },
    {
     "name": "stdout",
     "output_type": "stream",
     "text": [
      "Number A is divisible by number B 2 times.\n"
     ]
    }
   ],
   "source": [
    "A = int(input(\"Enter number A: \"))\n",
    "B = int(input(\"Enter number B: \"))\n",
    "\n",
    "count = 0\n",
    "while A % B == 0 :\n",
    "    A=A//B\n",
    "    count += 1\n",
    "\n",
    "if count > 0:\n",
    "    print(f\"Number A is divisible by number B {count} times.\")\n",
    "else:\n",
    "    print(\"Number A is not divisible by number B.\")\n",
    "\n",
    "\n",
    "\n",
    "\n",
    "\n"
   ]
  },
  {
   "cell_type": "code",
   "execution_count": null,
   "id": "0a9db205-400c-4982-a19c-42c3ae07ae90",
   "metadata": {},
   "outputs": [],
   "source": [
    "Answer 6"
   ]
  },
  {
   "cell_type": "code",
   "execution_count": 29,
   "id": "bfb7fa49-c101-47af-a520-5a8e2c87da15",
   "metadata": {
    "tags": []
   },
   "outputs": [
    {
     "name": "stdout",
     "output_type": "stream",
     "text": [
      "1 not divisible by 3 \n",
      "2 not divisible by 3 \n",
      "3 is divisible  by 3\n",
      "4 not divisible by 3 \n",
      "5 not divisible by 3 \n",
      "6 is divisible  by 3\n",
      "7 not divisible by 3 \n",
      "8 not divisible by 3 \n",
      "9 is divisible  by 3\n",
      "10 not divisible by 3 \n",
      "11 not divisible by 3 \n",
      "12 is divisible  by 3\n",
      "13 not divisible by 3 \n",
      "14 not divisible by 3 \n",
      "15 is divisible  by 3\n",
      "16 not divisible by 3 \n",
      "17 not divisible by 3 \n",
      "18 is divisible  by 3\n",
      "19 not divisible by 3 \n",
      "20 not divisible by 3 \n",
      "21 is divisible  by 3\n",
      "22 not divisible by 3 \n",
      "23 not divisible by 3 \n",
      "24 is divisible  by 3\n",
      "25 not divisible by 3 \n"
     ]
    }
   ],
   "source": [
    "my_list=[1,2,3,4,5,6,7,8,9,10,11,12,13,14,15,16,17,18,19,20,21,22,23,24,25]\n",
    "for i in my_list :\n",
    " if i%3==0:\n",
    "    print(f\"{i} is divisible  by 3\")\n",
    " else :\n",
    "    print(f\"{i} not divisible by 3 \")"
   ]
  },
  {
   "cell_type": "markdown",
   "id": "2647df79-e948-4a33-afd8-4aa37a57b141",
   "metadata": {},
   "source": [
    "Answer 7"
   ]
  },
  {
   "cell_type": "markdown",
   "id": "4f5b5a1c-4612-4ae2-9d8a-35f688831302",
   "metadata": {},
   "source": [
    "Mutable : the data types that  can be changed after declaration is known as  mutable  data type \n",
    "for example -list\n",
    "IMMUTABLE : on the other hand the data type that cannot be changed is known as immutable data type  for example STRING,TUPLE etc"
   ]
  }
 ],
 "metadata": {
  "kernelspec": {
   "display_name": "Python 3 (ipykernel)",
   "language": "python",
   "name": "python3"
  },
  "language_info": {
   "codemirror_mode": {
    "name": "ipython",
    "version": 3
   },
   "file_extension": ".py",
   "mimetype": "text/x-python",
   "name": "python",
   "nbconvert_exporter": "python",
   "pygments_lexer": "ipython3",
   "version": "3.11.4"
  }
 },
 "nbformat": 4,
 "nbformat_minor": 5
}
